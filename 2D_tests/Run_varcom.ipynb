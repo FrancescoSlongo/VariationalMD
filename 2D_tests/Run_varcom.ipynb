{
 "cells": [
  {
   "cell_type": "code",
   "execution_count": 1,
   "metadata": {},
   "outputs": [],
   "source": [
    "import numpy as np"
   ]
  },
  {
   "cell_type": "code",
   "execution_count": 5,
   "metadata": {},
   "outputs": [],
   "source": [
    "with open(\"input\", \"w\") as f:\n",
    "    print(\"\"\"\n",
    "ncomm 3              \n",
    "temperature 0.5      \n",
    "tstep 0.01           \n",
    "kratchet 150       \n",
    "MDsteps 15000        \n",
    "biassim 2000         \n",
    "selfsteps 2          \n",
    "alpha 0.5    \n",
    "threshold 0.001\n",
    "relaxation True\n",
    "relax 5\n",
    "xlimleft -2.0\n",
    "xlimright 2.0\n",
    "ylimdown -1.5\n",
    "ylimup 2.5\n",
    "delta 0.025\n",
    "namecoeff trialcoeff.xyz\n",
    "namepot trialpot.pdf    \n",
    "nameGibbs trialGibbs.pdf\n",
    "namecomm trialcomm.pdf\n",
    "nametraj trialtraj.pdf\n",
    "nameprob trialprob.pdf\n",
    "\n",
    "        \"\"\",file=f)  "
   ]
  },
  {
   "cell_type": "code",
   "execution_count": 3,
   "metadata": {
    "scrolled": false
   },
   "outputs": [
    {
     "name": "stdout",
     "output_type": "stream",
     "text": [
      "Process is terminated.\n"
     ]
    }
   ],
   "source": [
    "python3.7 -W ignore varcom.py"
   ]
  },
  {
   "cell_type": "code",
   "execution_count": null,
   "metadata": {},
   "outputs": [],
   "source": []
  }
 ],
 "metadata": {
  "kernelspec": {
   "display_name": "Python 3",
   "language": "python",
   "name": "python3"
  },
  "language_info": {
   "codemirror_mode": {
    "name": "ipython",
    "version": 3
   },
   "file_extension": ".py",
   "mimetype": "text/x-python",
   "name": "python",
   "nbconvert_exporter": "python",
   "pygments_lexer": "ipython3",
   "version": "3.7.6"
  }
 },
 "nbformat": 4,
 "nbformat_minor": 4
}
