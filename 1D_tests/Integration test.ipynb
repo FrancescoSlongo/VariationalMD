{
 "cells": [
  {
   "cell_type": "code",
   "execution_count": 10,
   "metadata": {},
   "outputs": [],
   "source": [
    "from math import exp\n",
    "import numpy as np\n",
    "from sympy import Symbol, integrate, exp, oo\n",
    "from scipy import integrate\n",
    "import matplotlib.pyplot as plt"
   ]
  },
  {
   "cell_type": "code",
   "execution_count": 3,
   "metadata": {},
   "outputs": [],
   "source": [
    "# function for the trapezoidal rule\n",
    "def TrapezoidalRule(a,b,f,n):\n",
    "    h = (b-a)/float(n)\n",
    "    s = 0\n",
    "    x = a\n",
    "    for i in range(1,n,1):\n",
    "        x = x+h\n",
    "        s = s+ f(x)\n",
    "        s = 0.5*(f(a)+f(b)) +s\n",
    "    return h*s\n",
    "# function for the Gaussian quadrature with Laguerre polynomials\n",
    "def GaussLaguerreRule(n):\n",
    "    s = 0\n",
    "    xgauleg, wgauleg = np.polynomial.laguerre.laggauss(n)\n",
    "    for i in range(1,n,1):\n",
    "        s = s+ xgauleg[i]*xgauleg[i]*wgauleg[i]\n",
    "    return s\n",
    "# function to compute\n",
    "def function(x):\n",
    "    return x*x*exp(-x)"
   ]
  },
  {
   "cell_type": "code",
   "execution_count": 7,
   "metadata": {},
   "outputs": [
    {
     "name": "stdout",
     "output_type": "stream",
     "text": [
      "Integration points= 10.0 100.0\n",
      "Trapezoidal relative error= 1.0 1.0\n",
      "LagGuass relative error= 0.002928191982085049 3.7659283941282595e-06\n"
     ]
    }
   ],
   "source": [
    "# Integration limits for the Trapezoidal rule\n",
    "a = 0.0; b = 10000.0\n",
    "# define x as a symbol to be used by sympy\n",
    "x = Symbol(\"x\")\n",
    "# find result from sympy\n",
    "exact = integrate(function(x), (x, a, oo))\n",
    "# set up the arrays for plotting the relative error\n",
    "n = np.zeros(40); Trapez = np.zeros(4); LagGauss = np.zeros(4);\n",
    "# find the relative error as function of integration points\n",
    "for i in range(1, 3, 1):\n",
    "    npts = 10**i\n",
    "    n[i] = npts\n",
    "    Trapez[i] = abs((TrapezoidalRule(a,b,function,npts)-exact)/exact)\n",
    "    LagGauss[i] = abs((GaussLaguerreRule(npts)-exact)/exact)\n",
    "print(\"Integration points=\", n[1], n[2])\n",
    "print(\"Trapezoidal relative error=\", Trapez[1], Trapez[2])\n",
    "print(\"LagGuass relative error=\", LagGauss[1], LagGauss[2])"
   ]
  },
  {
   "cell_type": "code",
   "execution_count": 13,
   "metadata": {},
   "outputs": [
    {
     "data": {
      "image/png": "[encoded data removed]",
      "text/plain": [
       "<Figure size 432x288 with 1 Axes>"
      ]
     },
     "metadata": {
      "needs_background": "light"
     },
     "output_type": "display_data"
    }
   ],
   "source": [
    "x = np.linspace(-2, 2, num=20)\n",
    "y = x\n",
    "y_int = integrate.cumtrapz(y, x, initial=0)\n",
    "plt.plot(x, y_int, 'ro', x, y[0] + 0.5 * x**2, 'b-')\n",
    "plt.show()"
   ]
  },
  {
   "cell_type": "code",
   "execution_count": 20,
   "metadata": {},
   "outputs": [
    {
     "ename": "IndexError",
     "evalue": "invalid index to scalar variable.",
     "output_type": "error",
     "traceback": [
      "\u001b[0;31m---------------------------------------------------------------------------\u001b[0m",
      "\u001b[0;31mIndexError\u001b[0m                                Traceback (most recent call last)",
      "\u001b[0;32m<ipython-input-20-f373cf5d726e>\u001b[0m in \u001b[0;36m<module>\u001b[0;34m\u001b[0m\n\u001b[1;32m      4\u001b[0m \u001b[0my_int\u001b[0m \u001b[0;34m/=\u001b[0m \u001b[0my_int\u001b[0m\u001b[0;34m[\u001b[0m\u001b[0;34m-\u001b[0m\u001b[0;36m1\u001b[0m\u001b[0;34m]\u001b[0m\u001b[0;34m\u001b[0m\u001b[0;34m\u001b[0m\u001b[0m\n\u001b[1;32m      5\u001b[0m \u001b[0my_int2\u001b[0m \u001b[0;34m=\u001b[0m \u001b[0mnp\u001b[0m\u001b[0;34m.\u001b[0m\u001b[0mtrapz\u001b[0m\u001b[0;34m(\u001b[0m\u001b[0my\u001b[0m\u001b[0;34m,\u001b[0m\u001b[0mx\u001b[0m\u001b[0;34m)\u001b[0m\u001b[0;34m\u001b[0m\u001b[0;34m\u001b[0m\u001b[0m\n\u001b[0;32m----> 6\u001b[0;31m \u001b[0my_int2\u001b[0m \u001b[0;34m/=\u001b[0m \u001b[0my_int2\u001b[0m\u001b[0;34m[\u001b[0m\u001b[0;34m-\u001b[0m\u001b[0;36m1\u001b[0m\u001b[0;34m]\u001b[0m\u001b[0;34m\u001b[0m\u001b[0;34m\u001b[0m\u001b[0m\n\u001b[0m\u001b[1;32m      7\u001b[0m \u001b[0mplt\u001b[0m\u001b[0;34m.\u001b[0m\u001b[0mplot\u001b[0m\u001b[0;34m(\u001b[0m\u001b[0mx\u001b[0m\u001b[0;34m,\u001b[0m \u001b[0my_int\u001b[0m\u001b[0;34m)\u001b[0m\u001b[0;34m\u001b[0m\u001b[0;34m\u001b[0m\u001b[0m\n\u001b[1;32m      8\u001b[0m \u001b[0mplt\u001b[0m\u001b[0;34m.\u001b[0m\u001b[0mplot\u001b[0m\u001b[0;34m(\u001b[0m\u001b[0mx\u001b[0m\u001b[0;34m,\u001b[0m \u001b[0my_int2\u001b[0m\u001b[0;34m)\u001b[0m\u001b[0;34m\u001b[0m\u001b[0;34m\u001b[0m\u001b[0m\n",
      "\u001b[0;31mIndexError\u001b[0m: invalid index to scalar variable."
     ]
    }
   ],
   "source": [
    "x = np.linspace(-1, 1, 1000)\n",
    "y = np.exp((x**2-1.0)**2)\n",
    "y_int = integrate.cumtrapz(y, x, initial=0)\n",
    "y_int /= y_int[-1]\n",
    "y_int2 = np.trapz(y,x)\n",
    "y_int2 /= y_int2[-1]\n",
    "plt.plot(x, y_int)\n",
    "plt.plot(x, y_int2)\n",
    "plt.show()"
   ]
  },
  {
   "cell_type": "code",
   "execution_count": 18,
   "metadata": {},
   "outputs": [],
   "source": [
    "x = np.linspace(-1, 1, 1000)"
   ]
  },
  {
   "cell_type": "code",
   "execution_count": null,
   "metadata": {},
   "outputs": [],
   "source": []
  }
 ],
 "metadata": {
  "kernelspec": {
   "display_name": "Python 3",
   "language": "python",
   "name": "python3"
  },
  "language_info": {
   "codemirror_mode": {
    "name": "ipython",
    "version": 3
   },
   "file_extension": ".py",
   "mimetype": "text/x-python",
   "name": "python",
   "nbconvert_exporter": "python",
   "pygments_lexer": "ipython3",
   "version": "3.7.6"
  }
 },
 "nbformat": 4,
 "nbformat_minor": 4
}
