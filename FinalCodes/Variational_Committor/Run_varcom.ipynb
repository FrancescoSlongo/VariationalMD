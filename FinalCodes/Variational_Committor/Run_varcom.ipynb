{
 "cells": [
  {
   "cell_type": "code",
   "execution_count": 1,
   "metadata": {},
   "outputs": [],
   "source": [
    "import numpy as np"
   ]
  },
  {
   "cell_type": "markdown",
   "metadata": {},
   "source": [
    "Cell to write down the input file for the script \"numcom.py\". \n",
    "\n",
    "One can set the following parameters:\n",
    "1.   temperature: temperature of the simulation\n",
    "2.   diffusione: diffusion coefficient of the simulation\n",
    "3.   tstep: time step of the MD simulations used for the boundaries\n",
    "4.   Nsim: number of MD simulations used to estimate the committor at the boundaries\n",
    "5.   stepsim: number of maximum steps for each MD simulation\n",
    "6.   xlimleft: left limit of the plot\n",
    "7.   xlimright: left limit of the plot\n",
    "8.   nxstep: number of grid point along the x-axis\n",
    "10.  ylimup: upper limit of the plot\n",
    "11.  nystep: number of grid point along the y-axis\n",
    "12.  namefile: name of the file where to save the committor\n",
    "13.  nameplot: name of the file where to save the plot of the committor\n",
    "1. ncomm: number of committor guesses              \n",
    "2. temperature: temperature of the simulation \n",
    "3. tstep: time step of the MD simulations used for the boundaries       \n",
    "4. kratchet: constant of the ratchet force      \n",
    "5. MDsteps: number of maximum steps for each MD simulation       \n",
    "6. biassim: number of bias simulations in order to sample the trainsition region         \n",
    "7. selfsteps: maximum number of self consistent iterations          \n",
    "7. alpha: relaxation parameter of the self consistent procedure\n",
    "8. threshold: threshold for the self consistent procedure\n",
    "9. relaxation: if True, the biased probability distribution is relaxed at each self consistent step\n",
    "10. relax 15: steps of MD simulation for the relaxation\n",
    "11. xlimleft: left limit of the plots\n",
    "12. xlimright: right limit of the plots\n",
    "13. ylimdown: lower limit of the plots\n",
    "14. ylimup: upper limit of the plots\n",
    "15. delta: resolution of the plots\n",
    "16. namecoeff: file where to save the evolution of the coefficients. If not provided, the coefficients are not saved\n",
    "17. nametraj: name of the file where to save the plot of the trajectories used for the sampling. If not provided, the plot is not done\n",
    "18. nameprob: name of the file where to save the plot of the sampled transition probability distribution. If not provided, the plot is not done"
   ]
  },
  {
   "cell_type": "code",
   "execution_count": 2,
   "metadata": {},
   "outputs": [],
   "source": [
    "with open(\"input\", \"w\") as f:\n",
    "    print(\"\"\"\n",
    "ncomm 2              \n",
    "temperature 1.0      \n",
    "tstep 0.005           \n",
    "kratchet 150       \n",
    "MDsteps 15000        \n",
    "biassim 2000         \n",
    "selfsteps 10          \n",
    "alpha 0.5    \n",
    "threshold 0.001\n",
    "relaxation True\n",
    "relax 20\n",
    "xlimleft -2.0\n",
    "xlimright 2.0\n",
    "ylimdown -1.5\n",
    "ylimup 2.5\n",
    "delta 0.025\n",
    "namecoeff Coeff12.xyz\n",
    "nameprob Prob12.pdf\n",
    "\n",
    "        \"\"\",file=f)  "
   ]
  },
  {
   "cell_type": "markdown",
   "metadata": {},
   "source": [
    "This cell runs directly the numcom.py script, but it can also be run from bash."
   ]
  },
  {
   "cell_type": "code",
   "execution_count": 3,
   "metadata": {
    "scrolled": false
   },
   "outputs": [
    {
     "name": "stdout",
     "output_type": "stream",
     "text": [
      "Process is terminated.\n"
     ]
    }
   ],
   "source": [
    "%%bash\n",
    "python3.7 -W ignore varcom.py"
   ]
  },
  {
   "cell_type": "code",
   "execution_count": null,
   "metadata": {},
   "outputs": [],
   "source": []
  }
 ],
 "metadata": {
  "kernelspec": {
   "display_name": "Python 3",
   "language": "python",
   "name": "python3"
  },
  "language_info": {
   "codemirror_mode": {
    "name": "ipython",
    "version": 3
   },
   "file_extension": ".py",
   "mimetype": "text/x-python",
   "name": "python",
   "nbconvert_exporter": "python",
   "pygments_lexer": "ipython3",
   "version": "3.7.6"
  }
 },
 "nbformat": 4,
 "nbformat_minor": 4
}
