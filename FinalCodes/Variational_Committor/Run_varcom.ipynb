{
 "cells": [
  {
   "cell_type": "code",
   "execution_count": 1,
   "metadata": {},
   "outputs": [],
   "source": [
    "import numpy as np"
   ]
  },
  {
   "cell_type": "markdown",
   "metadata": {},
   "source": [
    "Cell to write down the input file for the script \"numcom.py\". \n",
    "\n",
    "One can set the following parameters:\n",
    "1.   temperature: temperature of the simulation\n",
    "2.   diffusione: diffusion coefficient of the simulation\n",
    "3.   tstep: time step of the MD simulations used for the boundaries\n",
    "4.   Nsim: number of MD simulations used to estimate the committor at the boundaries\n",
    "5.   stepsim: number of maximum steps for each MD simulation\n",
    "6.   xlimleft: left limit of the plot\n",
    "7.   xlimright: left limit of the plot\n",
    "8.   nxstep: number of grid point along the x-axis\n",
    "10.  ylimup: upper limit of the plot\n",
    "11.  nystep: number of grid point along the y-axis\n",
    "12.  namefile: name of the file where to save the committor\n",
    "13.  nameplot: name of the file where to save the plot of the committor\n",
    "1. ncomm: number of committor guesses              \n",
    "2. temperature: temperature of the simulation \n",
    "3. tstep: time step of the MD simulations used for the boundaries       \n",
    "4. kratchet: constant of the ratchet force      \n",
    "5. MDsteps: number of maximum steps for each MD simulation       \n",
    "6. biassim: number of bias simulations in order to sample the trainsition region         \n",
    "7. selfsteps: maximum number of self consistent iterations          \n",
    "7. alpha: relaxation parameter of the self consistent procedure\n",
    "8. threshold: threshold for the self consistent procedure\n",
    "9. relaxation: if True, the biased probability distribution is relaxed at each self consistent step\n",
    "10. relax 15: steps of MD simulation for the relaxation\n",
    "11. xlimleft: left limit of the plots\n",
    "12. xlimright: right limit of the plots\n",
    "13. ylimdown: lower limit of the plots\n",
    "14. ylimup: upper limit of the plots\n",
    "15. delta: resolution of the plots\n",
    "16. namecoeff: file where to save the evolution of the coefficients. If not provided, the coefficients are not saved\n",
    "17. nametraj: name of the file where to save the plot of the trajectories used for the sampling. If not provided, the plot is not done\n",
    "18. nameprob: name of the file where to save the plot of the sampled transition probability distribution. If not provided, the plot is not done"
   ]
  },
  {
   "cell_type": "code",
   "execution_count": 2,
   "metadata": {},
   "outputs": [],
   "source": [
    "with open(\"input\", \"w\") as f:\n",
    "    print(\"\"\"\n",
    "ncomm 5              \n",
    "temperature 1.0      \n",
    "tstep 0.005           \n",
    "kratchet 150       \n",
    "MDsteps 15000        \n",
    "biassim 2000         \n",
    "selfsteps 15          \n",
    "alpha 0.5    \n",
    "threshold 0.001\n",
    "relax 20\n",
    "xlimleft -2.0\n",
    "xlimright 2.0\n",
    "ylimdown -1.5\n",
    "ylimup 2.5\n",
    "delta 0.025\n",
    "namecoeff Coeff5.xyz\n",
    "nameprob Prob5.pdf\n",
    "\n",
    "        \"\"\",file=f)  "
   ]
  },
  {
   "cell_type": "markdown",
   "metadata": {},
   "source": [
    "This cell runs directly the numcom.py script, but it can also be run from bash."
   ]
  },
  {
   "cell_type": "code",
   "execution_count": 3,
   "metadata": {
    "scrolled": false
   },
   "outputs": [
    {
     "name": "stdout",
     "output_type": "stream",
     "text": [
      "Algorithm has started\n",
      "Parameters loaded correctly\n",
      "Cycle =  1\n",
      "[0.33333333 0.33333333 0.33333333]\n",
      "Cycle =  2\n",
      "[[0.36343336 0.15602745 0.26452038]\n",
      " [0.15602745 0.88978356 0.16348811]\n",
      " [0.26452038 0.16348811 0.61035348]]\n",
      "[0.62488098 0.20067182 0.1744472 ]\n",
      "Cycle =  3\n",
      "[[0.34894968 0.14658009 0.24793006]\n",
      " [0.14658009 0.18907199 0.15558296]\n",
      " [0.24793006 0.15558296 0.61923007]]\n",
      "[0.16038455 0.81569193 0.02392352]\n",
      "Cycle =  4\n",
      "[[0.33360047 0.13965434 0.20882144]\n",
      " [0.13965434 0.15337643 0.14408649]\n",
      " [0.20882144 0.14408649 0.60793687]]\n",
      "[0.06257677 0.92792594 0.00949729]\n",
      "Cycle =  5\n",
      "[[0.33924765 0.14217399 0.16906754]\n",
      " [0.14217399 0.12721523 0.12523247]\n",
      " [0.16906754 0.12523247 0.54240983]]\n",
      "[4.05544180e-05 9.94480572e-01 5.47887330e-03]\n",
      "Cycle =  6\n",
      "[[0.34484271 0.14461256 0.16474958]\n",
      " [0.14461256 0.10043811 0.12204295]\n",
      " [0.16474958 0.12204295 0.52488508]]\n",
      "[4.33375055e-06 9.99299372e-01 6.96294178e-04]\n",
      "Cycle =  7\n",
      "[[0.34715849 0.14644732 0.16395754]\n",
      " [0.14644732 0.12648447 0.12255848]\n",
      " [0.16395754 0.12255848 0.52281073]]\n",
      "[1.37115508e-04 9.89693533e-01 1.01693518e-02]\n",
      "Cycle =  8\n",
      "[[0.3476803  0.14722355 0.16644077]\n",
      " [0.14722355 0.11207359 0.12274852]\n",
      " [0.16644077 0.12274852 0.5206125 ]]\n",
      "[5.05641145e-04 9.96753473e-01 2.74088545e-03]\n",
      "Cycle =  9\n",
      "[[0.34574511 0.14587154 0.16495178]\n",
      " [0.14587154 0.10217527 0.12325913]\n",
      " [0.16495178 0.12325913 0.52261228]]\n",
      "[4.30911791e-06 9.99290776e-01 7.04915114e-04]\n",
      "Cycle =  10\n",
      "[[0.34577455 0.14462415 0.16236005]\n",
      " [0.14462415 0.09891764 0.11917971]\n",
      " [0.16236005 0.11917971 0.51188629]]\n",
      "[4.39896139e-06 9.99197096e-01 7.98505073e-04]\n",
      "Coefficients saved correctly\n",
      "Rate of optimal linear combination:  0.1399384612147605\n",
      "Transition probability distribution plotted successfully\n"
     ]
    }
   ],
   "source": [
    "%%bash\n",
    "python3.7 -W ignore varcom.py"
   ]
  },
  {
   "cell_type": "code",
   "execution_count": null,
   "metadata": {},
   "outputs": [],
   "source": []
  }
 ],
 "metadata": {
  "kernelspec": {
   "display_name": "Python 3",
   "language": "python",
   "name": "python3"
  },
  "language_info": {
   "codemirror_mode": {
    "name": "ipython",
    "version": 3
   },
   "file_extension": ".py",
   "mimetype": "text/x-python",
   "name": "python",
   "nbconvert_exporter": "python",
   "pygments_lexer": "ipython3",
   "version": "3.7.6"
  }
 },
 "nbformat": 4,
 "nbformat_minor": 4
}
