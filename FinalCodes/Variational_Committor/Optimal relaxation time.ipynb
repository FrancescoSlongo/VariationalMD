{
 "cells": [
  {
   "cell_type": "code",
   "execution_count": 1,
   "metadata": {},
   "outputs": [],
   "source": [
    "# Libraries for the calculations\n",
    "import numpy as np"
   ]
  },
  {
   "cell_type": "markdown",
   "metadata": {},
   "source": [
    "Parameters of the potential"
   ]
  },
  {
   "cell_type": "code",
   "execution_count": 2,
   "metadata": {},
   "outputs": [],
   "source": [
    "x0=1.0\n",
    "a0=1.0/3.0\n",
    "b0=5.0/3.0\n",
    "u0=5.0\n",
    "w0=1.0/5.0"
   ]
  },
  {
   "cell_type": "markdown",
   "metadata": {},
   "source": [
    "Position of the minimum"
   ]
  },
  {
   "cell_type": "code",
   "execution_count": 3,
   "metadata": {},
   "outputs": [],
   "source": [
    "x=1.15\n",
    "y=0.0"
   ]
  },
  {
   "cell_type": "markdown",
   "metadata": {},
   "source": [
    "Second order partial derivative of the potential with respect to x"
   ]
  },
  {
   "cell_type": "code",
   "execution_count": 4,
   "metadata": {},
   "outputs": [],
   "source": [
    "Dx2U=12*w0*x**2 + u0*(-2.*np.exp(-x**2 - y**2) + 2.*np.exp(-(x - x0)**2 - y**2) +  2.*np.exp(-(x + x0)**2 - y**2) + 4.*np.exp(-x**2 - y**2)*x**2 - 3./5.*(-2.*np.exp(-x**2 - (-b0 + y)**2) + 4.*np.exp(-x**2 - (-b0 + y)**2)*x**2)-4.*np.exp(-(x - x0)**2 - y**2)*(x - x0)**2 - 4.*np.exp(-(x + x0)**2 - y**2)*(x + x0)**2)"
   ]
  },
  {
   "cell_type": "markdown",
   "metadata": {},
   "source": [
    "Second order partial derivative of the potential with respect to y"
   ]
  },
  {
   "cell_type": "code",
   "execution_count": 5,
   "metadata": {},
   "outputs": [],
   "source": [
    "Dy2U=12*w0*(-a0 + y)**2 + u0*(-2.*np.exp(-x**2 - y**2) + 2.*np.exp(-(x - x0)**2 - y**2) + 2.*np.exp(-(x + x0)**2 - y**2) + 4.*np.exp(-x**2 - y**2)*y**2 - 4.*np.exp(-(x - x0)**2 - y**2)*y**2 - 4.*np.exp(-(x + x0)**2 - y**2)*y**2 - 3./5.*(-2.*np.exp(-x**2 - (-b0 + y)**2) + 4.*np.exp(-x**2 - (-b0 + y)**2)*(-b0 + y)**2))"
   ]
  },
  {
   "cell_type": "markdown",
   "metadata": {},
   "source": [
    "Time step of the MD simulation"
   ]
  },
  {
   "cell_type": "code",
   "execution_count": 6,
   "metadata": {},
   "outputs": [],
   "source": [
    "tstep = 0.01"
   ]
  },
  {
   "cell_type": "markdown",
   "metadata": {},
   "source": [
    "Number of optimal thermalization steps along x and y"
   ]
  },
  {
   "cell_type": "code",
   "execution_count": 7,
   "metadata": {},
   "outputs": [
    {
     "name": "stdout",
     "output_type": "stream",
     "text": [
      "6.280986353380066\n",
      "14.235042901761165\n"
     ]
    }
   ],
   "source": [
    "print(1.0/Dx2U/tstep)\n",
    "print(1.0/Dy2U/tstep)"
   ]
  },
  {
   "cell_type": "code",
   "execution_count": null,
   "metadata": {},
   "outputs": [],
   "source": []
  }
 ],
 "metadata": {
  "kernelspec": {
   "display_name": "Python 3",
   "language": "python",
   "name": "python3"
  },
  "language_info": {
   "codemirror_mode": {
    "name": "ipython",
    "version": 3
   },
   "file_extension": ".py",
   "mimetype": "text/x-python",
   "name": "python",
   "nbconvert_exporter": "python",
   "pygments_lexer": "ipython3",
   "version": "3.7.6"
  }
 },
 "nbformat": 4,
 "nbformat_minor": 4
}
